{
 "cells": [
  {
   "cell_type": "code",
   "execution_count": 2,
   "id": "3d3a3c0c",
   "metadata": {},
   "outputs": [
    {
     "name": "stdout",
     "output_type": "stream",
     "text": [
      "36\n"
     ]
    }
   ],
   "source": [
    "#Question 1: \n",
    "#Écrivez un programme Python pour multiplier tous les éléments d'une liste.\n",
    "#par exemple liste=[2, 3, 6]; résultat = 36\n",
    "#*************************************************************************\n",
    "\n",
    "def produitliste(l):\n",
    "    produit=1\n",
    "    for x in l:\n",
    "        produit=produit*x\n",
    "    return produit\n",
    "l=[2,3,6]\n",
    "print(produitliste(l))\n"
   ]
  },
  {
   "cell_type": "code",
   "execution_count": null,
   "id": "fb713ce2",
   "metadata": {},
   "outputs": [],
   "source": [
    "# Exercice 2:\n",
    "#Écrivez un programme Python pour obtenir une liste, triée par ordre croissant par \n",
    "# le dernier élément de chaque tuple à partir d'une liste donnée de tuples non vides.\n",
    "#Exemple de liste : [(2, 5), (1, 2), (4, 4), (2, 3), (2, 1)]\n",
    "#Résultat attendu : [(2, 1), (1, 2), (2, 3), (4, 4), (2, 5)]\n",
    "#*******************************************************\n",
    "l1=[(2, 5), (1, 2), (4, 4), (2, 3), (2, 1)]\n",
    "\n",
    "\n"
   ]
  },
  {
   "cell_type": "code",
   "execution_count": null,
   "id": "fe2b53b5",
   "metadata": {},
   "outputs": [],
   "source": []
  },
  {
   "cell_type": "code",
   "execution_count": null,
   "id": "24b1eb16",
   "metadata": {},
   "outputs": [],
   "source": [
    "# Question 3:\n",
    "#Écrivez un programme Python pour combiner deux dictionnaires en ajoutant des valeurs pour les clés communes.\n",
    "#d1 = {'a' : 100, 'b' : 200, 'c' : 300}\n",
    "#d2 = {'a' : 300, 'b' : 200, 'd' : 400}\n",
    "#Sortie attendue : {'a' : 400, 'b' : 400, 'd' : 400, 'c' : 300}\n",
    "\n",
    "d1=[]\n"
   ]
  },
  {
   "cell_type": "code",
   "execution_count": null,
   "id": "55cb1688",
   "metadata": {},
   "outputs": [],
   "source": [
    "# Exercice 4:\n",
    "# Avec un nombre entier n donné, écrivez un programme pour générer un dictionnaire \n",
    "#qui contient (i, i*i) tel qu'il soit un nombre entier compris entre 1 et n (les deux inclus). \n",
    "#puis le programme devrait imprimer le dictionnaire. Supposons que l'entrée suivante soit fournie au programme :\n",
    "#8 Ensuite, la sortie doit être : {1 : 1, 2 : 4, 3 : 9, 4 : 16, 5 : 25, 6 : 36, 7 : 49, 8 : 64 }\n"
   ]
  },
  {
   "cell_type": "code",
   "execution_count": null,
   "id": "0875f33e",
   "metadata": {},
   "outputs": [],
   "source": [
    "# Exercice 5:\n",
    "#Écrivez un programme pour trier un tuple par son élément flottant.\n",
    "#Par exemple list= [('item1', '12.20'), ('item2', '15.10'), ('item3', '24.5')]\n",
    "#Sortie attendue : [('item3', '24.5'), ( 'élément2', '15.10'), ('élément1', '12.20')]\n"
   ]
  },
  {
   "cell_type": "code",
   "execution_count": null,
   "id": "064d34c5",
   "metadata": {},
   "outputs": [],
   "source": []
  }
 ],
 "metadata": {
  "kernelspec": {
   "display_name": "Python 3 (ipykernel)",
   "language": "python",
   "name": "python3"
  },
  "language_info": {
   "codemirror_mode": {
    "name": "ipython",
    "version": 3
   },
   "file_extension": ".py",
   "mimetype": "text/x-python",
   "name": "python",
   "nbconvert_exporter": "python",
   "pygments_lexer": "ipython3",
   "version": "3.9.7"
  }
 },
 "nbformat": 4,
 "nbformat_minor": 5
}
