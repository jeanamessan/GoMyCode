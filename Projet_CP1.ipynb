{
 "cells": [
  {
   "cell_type": "code",
   "execution_count": 12,
   "id": "d27405c0",
   "metadata": {},
   "outputs": [
    {
     "name": "stdout",
     "output_type": "stream",
     "text": [
      "Prénom:JEAN\n",
      "nom:AMESSAN\n",
      "AMESSAN JEAN\n"
     ]
    }
   ],
   "source": [
    "## question 1\n",
    "#Écrivez un programme Python qui accepte le prénom et le nom de l'utilisateur\n",
    "#et imprimez-les dans l'ordre inverse avec un espace entre eux.\n",
    "\n",
    "#***SOLUTION****\n",
    "p=input(\"Prénom:\"); n=input(\"nom:\")\n",
    "print(n+\" \"+p)\n"
   ]
  },
  {
   "cell_type": "code",
   "execution_count": 1,
   "id": "41d33844",
   "metadata": {},
   "outputs": [
    {
     "name": "stdout",
     "output_type": "stream",
     "text": [
      "entrez un entier:234\n",
      "28782\n"
     ]
    }
   ],
   "source": [
    "#question 2\n",
    "#Ecrire un programme Python qui accepte un entier (n) et calcule la valeur de n+nn+nnn\n",
    "#Exemple de valeur de n est 5 Résultat attendu : 615 (5+55+555) \n",
    "\n",
    "#***SOLUTION****\n",
    "n=int(input(\"entrez un entier:\"))\n",
    "print(n+n*11+n*111) ## nn= 11*n et nnn = 111*n\n"
   ]
  },
  {
   "cell_type": "code",
   "execution_count": 3,
   "id": "7fe83e83",
   "metadata": {},
   "outputs": [
    {
     "name": "stdout",
     "output_type": "stream",
     "text": [
      "Entrer un entier: 57\n",
      "le nombre donné est impair\n"
     ]
    }
   ],
   "source": [
    "#question 3:Écrivez un programme Python pour savoir si un nombre donné (accepté par l'utilisateur) est pair ou impair,\n",
    "# imprimez un message approprié à l'utilisateur\n",
    "\n",
    "## soit une variable t, un entier quelconque et 2, une constante. b, le reste de la division de t par 2\n",
    "\n",
    "#***SOLUTION****\n",
    "\n",
    "c=int(2); t=int(input(\"Entrer un entier: \"));b=float(t%c)\n",
    "if b==0:\n",
    "    print(\"le nombre donné est pair\") ## si le reste de la division est zéro\n",
    "else:\n",
    "    print(\"le nombre donné est impair\")## si le rest de la division est différent de zéro\n"
   ]
  },
  {
   "cell_type": "code",
   "execution_count": null,
   "id": "e56972cd",
   "metadata": {},
   "outputs": [],
   "source": [
    "## Question 4\n",
    "#Écrivez un programme qui trouvera tous ces nombres qui sont divisibles par 7 mais qui ne sont pas un multiple de 5, \n",
    "# entre 2000 et 3200 (les deux inclus). Les nombres obtenus doivent être imprimés en séquence sur une seule ligne\n",
    "for i range (2000,3201):\n",
    "    if i%7==0 and i%5!=0:\n",
    "        \n",
    "    \n"
   ]
  },
  {
   "cell_type": "code",
   "execution_count": 2,
   "id": "f7ec6692",
   "metadata": {},
   "outputs": [
    {
     "name": "stdout",
     "output_type": "stream",
     "text": [
      "Saisir un nombre entier:6\n",
      "720\n"
     ]
    }
   ],
   "source": [
    "## Question 5\n",
    "## Écrire un programme capable de calculer la factorielle d'un nombre donné. \n",
    "##Les résultats doivent être imprimés en séquence sur une seule ligne. \n",
    "## Supposons que l'entrée suivante soit fournie au programme : 8 Alors, la sortie devrait être : 40320 \n",
    " #**** SOLUTION\n",
    "    \n",
    "f=1\n",
    "n=int(input(\"Saisir un nombre entier:\"))\n",
    "for i in range (1,n+1): ### ajouter 1 sinon la boucle ne lira pas l'extremité de l'intervalle\n",
    "    f=f*i               ### remplacer dans la boucle f par f*1\n",
    "print (f)"
   ]
  },
  {
   "cell_type": "code",
   "execution_count": 7,
   "id": "b25a9c30",
   "metadata": {},
   "outputs": [
    {
     "name": "stdout",
     "output_type": "stream",
     "text": [
      "hlota\n"
     ]
    }
   ],
   "source": [
    "## Question 6\n",
    "# Écrivez un programme pour supprimer les caractères qui ont des valeurs d'index impaires d'une chaîne donnée.\n",
    "# par exemple : string=\"hello team\"; le résultat devrait être : hlota.    \"hello team\"\n",
    " #**** SOLUTION\n",
    "    \n",
    "ch=\"hello team\"   ## varaible chaine de caractère\n",
    "print(ch[ ::2])   ## recopier les caractères avec à partir de l’index 0 avec un pas de 2\n"
   ]
  },
  {
   "cell_type": "code",
   "execution_count": 29,
   "id": "2bebecca",
   "metadata": {},
   "outputs": [
    {
     "name": "stdout",
     "output_type": "stream",
     "text": [
      "Prix initial:300\n",
      "prix actualisé: 210.0\n"
     ]
    }
   ],
   "source": [
    "## Question 7\n",
    "## Dans ce défi, vous devez actualiser un prix en fonction de sa valeur.\n",
    "#- Si le prix est de 500 ou plus, il y aura une remise de 50 %.\n",
    "#- Si le prix est compris entre 200 et 500 (200 inclus), il y aura une remise de 30 %.\n",
    "#- Si le prix est inférieur à 200, il y aura une remise de 10 %.\n",
    "\n",
    "#***** SOLUTIONS*****\n",
    "\n",
    "p0=int(input(\"Prix initial:\"))\n",
    "if p0<0:\n",
    "    print(\"Prix invalide\") ## le rpgramme n'a de sens que pour les nombres entiers\n",
    "else:\n",
    "    if p0>=500:\n",
    "        print(\"prix actualisé:\",p0*0.5) ## rémise de 50% revient à muliplier le prix initial de 50% (100%- 50%)\n",
    "    elif p0>=200:\n",
    "        print(\"prix actualisé:\",p0*0.7) ## rémise de 50% revient à muliplier le prix initial de 70% (100%- 30%)\n",
    "    else:\n",
    "        print(\"prix actualisé:\",p0*0.9) ## rémise de 50% revient à muliplier le prix initial de 90% (100%-10%)\n",
    "\n",
    "\n",
    " \n",
    "           "
   ]
  },
  {
   "cell_type": "code",
   "execution_count": null,
   "id": "eed1bd3c",
   "metadata": {},
   "outputs": [],
   "source": []
  }
 ],
 "metadata": {
  "kernelspec": {
   "display_name": "Python 3 (ipykernel)",
   "language": "python",
   "name": "python3"
  },
  "language_info": {
   "codemirror_mode": {
    "name": "ipython",
    "version": 3
   },
   "file_extension": ".py",
   "mimetype": "text/x-python",
   "name": "python",
   "nbconvert_exporter": "python",
   "pygments_lexer": "ipython3",
   "version": "3.9.7"
  }
 },
 "nbformat": 4,
 "nbformat_minor": 5
}
